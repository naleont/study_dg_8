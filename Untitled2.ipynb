{
 "cells": [
  {
   "cell_type": "markdown",
   "id": "cdaad19f",
   "metadata": {},
   "source": [
    "## Еще про строки"
   ]
  },
  {
   "cell_type": "markdown",
   "id": "d253b810",
   "metadata": {},
   "source": [
    "Еще несколько инструментов для работы со строками."
   ]
  },
  {
   "cell_type": "markdown",
   "id": "3cac62ee",
   "metadata": {},
   "source": [
    "### .split()"
   ]
  },
  {
   "cell_type": "markdown",
   "id": "9479f996",
   "metadata": {},
   "source": [
    "`.split()` разбивает строку, в качестве разделителя использует то, что мы передадим этому методу в качестве аргумента."
   ]
  },
  {
   "cell_type": "code",
   "execution_count": 1,
   "id": "1c4beb58",
   "metadata": {},
   "outputs": [
    {
     "name": "stdout",
     "output_type": "stream",
     "text": [
      "['картошка', 'морковь', 'лук', 'перец', 'яблоки', 'горох']\n"
     ]
    }
   ],
   "source": [
    "groceries = 'картошка, морковь, лук, перец, яблоки, горох'\n",
    "groceries_list = groceries.split(', ')\n",
    "print(groceries_list)"
   ]
  },
  {
   "cell_type": "code",
   "execution_count": 2,
   "id": "9ba981bc",
   "metadata": {},
   "outputs": [
    {
     "name": "stdout",
     "output_type": "stream",
     "text": [
      "['картошка', 'морковь', 'лук', 'перец', 'яблоки', 'горох']\n"
     ]
    }
   ],
   "source": [
    "groceries = 'картошка; морковь; лук; перец; яблоки; горох'\n",
    "groceries_list = groceries.split('; ')\n",
    "print(groceries_list)"
   ]
  },
  {
   "cell_type": "markdown",
   "id": "d5aad582",
   "metadata": {},
   "source": [
    "Если не передавать методу аргумент, по умолчанию в качестве разделителя будет использован пробел."
   ]
  },
  {
   "cell_type": "code",
   "execution_count": 3,
   "id": "d2491ca2",
   "metadata": {},
   "outputs": [
    {
     "name": "stdout",
     "output_type": "stream",
     "text": [
      "['Маша', 'очень', 'не', 'хотела', 'есть', 'кашу,', 'зато', 'рвалась', 'заниматься', 'физикой.']\n"
     ]
    }
   ],
   "source": [
    "sentence = 'Маша очень не хотела есть кашу, зато рвалась заниматься физикой.'\n",
    "sentence_list = sentence.split()\n",
    "print(sentence_list)"
   ]
  },
  {
   "cell_type": "markdown",
   "id": "ec90f7f9",
   "metadata": {},
   "source": [
    "### .strip()"
   ]
  },
  {
   "cell_type": "markdown",
   "id": "917b14cf",
   "metadata": {},
   "source": [
    "Метод `.strip()` уберет лишние символы в любом количестве из начала и из конца строки. Работа аналогична `.split()`: не передаем аргумент - убирает пробелы, передаем аргумент - убирает те символы, которые передали. Такие же символы, находящиеся не в начале или конце строки метод трогать не будет."
   ]
  },
  {
   "cell_type": "code",
   "execution_count": 4,
   "id": "4f0dc877",
   "metadata": {},
   "outputs": [
    {
     "data": {
      "text/plain": [
       "'замок'"
      ]
     },
     "execution_count": 4,
     "metadata": {},
     "output_type": "execute_result"
    }
   ],
   "source": [
    "line = '     замок   '\n",
    "line.strip()"
   ]
  },
  {
   "cell_type": "code",
   "execution_count": 5,
   "id": "c8b1e8db",
   "metadata": {},
   "outputs": [
    {
     "data": {
      "text/plain": [
       "'важное !!! сообщение'"
      ]
     },
     "execution_count": 5,
     "metadata": {},
     "output_type": "execute_result"
    }
   ],
   "source": [
    "line = '!важное !!! сообщение!!!!!'\n",
    "line.strip('!')"
   ]
  },
  {
   "cell_type": "markdown",
   "id": "9aa30a71",
   "metadata": {},
   "source": [
    "### Работа с регистром"
   ]
  },
  {
   "cell_type": "markdown",
   "id": "b07cabfd",
   "metadata": {},
   "source": [
    "Для работы с регистром используются "
   ]
  },
  {
   "cell_type": "markdown",
   "id": "44e846a5",
   "metadata": {},
   "source": []
  },
  {
   "cell_type": "markdown",
   "id": "8e353472",
   "metadata": {},
   "source": []
  },
  {
   "cell_type": "markdown",
   "id": "c0fbff8c",
   "metadata": {},
   "source": []
  },
  {
   "cell_type": "markdown",
   "id": "2b9d4240",
   "metadata": {},
   "source": []
  },
  {
   "cell_type": "markdown",
   "id": "d73fcf31",
   "metadata": {},
   "source": []
  },
  {
   "cell_type": "markdown",
   "id": "3ba2db86",
   "metadata": {},
   "source": []
  },
  {
   "cell_type": "markdown",
   "id": "aa031dbd",
   "metadata": {},
   "source": []
  },
  {
   "cell_type": "code",
   "execution_count": 6,
   "id": "1c7a15f8",
   "metadata": {},
   "outputs": [],
   "source": [
    "a = 10"
   ]
  },
  {
   "cell_type": "code",
   "execution_count": 7,
   "id": "423bc93c",
   "metadata": {},
   "outputs": [
    {
     "name": "stdout",
     "output_type": "stream",
     "text": [
      "10\n"
     ]
    }
   ],
   "source": [
    "print(a)"
   ]
  },
  {
   "cell_type": "code",
   "execution_count": null,
   "id": "38d78895",
   "metadata": {},
   "outputs": [],
   "source": []
  }
 ],
 "metadata": {
  "kernelspec": {
   "display_name": "Python 3 (ipykernel)",
   "language": "python",
   "name": "python3"
  },
  "language_info": {
   "codemirror_mode": {
    "name": "ipython",
    "version": 3
   },
   "file_extension": ".py",
   "mimetype": "text/x-python",
   "name": "python",
   "nbconvert_exporter": "python",
   "pygments_lexer": "ipython3",
   "version": "3.8.10"
  }
 },
 "nbformat": 4,
 "nbformat_minor": 5
}
