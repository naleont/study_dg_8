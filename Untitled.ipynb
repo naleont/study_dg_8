{
 "cells": [
  {
   "cell_type": "code",
   "execution_count": null,
   "id": "8fe0c147",
   "metadata": {},
   "outputs": [],
   "source": []
  },
  {
   "cell_type": "code",
   "execution_count": null,
   "id": "43993bf7",
   "metadata": {},
   "outputs": [],
   "source": []
  },
  {
   "cell_type": "code",
   "execution_count": null,
   "id": "01da72cc",
   "metadata": {},
   "outputs": [],
   "source": []
  },
  {
   "cell_type": "code",
   "execution_count": null,
   "id": "8bf7f678",
   "metadata": {},
   "outputs": [],
   "source": []
  },
  {
   "cell_type": "markdown",
   "id": "2a6d008e",
   "metadata": {},
   "source": [
    "## Задание\n",
    "\n",
    "Дана [таблица](). В первом столбце перечислены учащиеся класса, в первой строке - предметы. На пересечениях выставлены годовые оценки. Программа должна добавить в таблицу новый столбец, в котором напротив каждого ученика написать, является он отличником (имеет только пятерки), хорошистом (не имеет оценок ниже \"4\"), троечником (не имеет \"двоек\") или двоечником. Строки в итоговой таблице должны быть отсортированы по возрастанию "
   ]
  },
  {
   "cell_type": "code",
   "execution_count": null,
   "id": "a7fb081c",
   "metadata": {},
   "outputs": [],
   "source": []
  }
 ],
 "metadata": {
  "kernelspec": {
   "display_name": "Python 3 (ipykernel)",
   "language": "python",
   "name": "python3"
  },
  "language_info": {
   "codemirror_mode": {
    "name": "ipython",
    "version": 3
   },
   "file_extension": ".py",
   "mimetype": "text/x-python",
   "name": "python",
   "nbconvert_exporter": "python",
   "pygments_lexer": "ipython3",
   "version": "3.8.10"
  }
 },
 "nbformat": 4,
 "nbformat_minor": 5
}
