{
 "cells": [
  {
   "cell_type": "markdown",
   "id": "1e279371",
   "metadata": {},
   "source": [
    "# Уровень Шрэк"
   ]
  },
  {
   "cell_type": "markdown",
   "id": "cc9e8254",
   "metadata": {},
   "source": [
    "## Кортежи и множества"
   ]
  },
  {
   "cell_type": "markdown",
   "id": "b1f2f7e8",
   "metadata": {},
   "source": [
    "Есть еще два типа данных, которые мы пока не изучили.\n",
    "\n",
    "Кортеж (tuple) очень похож на список, но записывается в круглых скобках. Его особенность в том, что после создания его нельзя изменять."
   ]
  },
  {
   "cell_type": "code",
   "execution_count": 9,
   "id": "1287e8ee",
   "metadata": {},
   "outputs": [
    {
     "data": {
      "text/plain": [
       "tuple"
      ]
     },
     "execution_count": 9,
     "metadata": {},
     "output_type": "execute_result"
    }
   ],
   "source": [
    "a = (1, 3, 'cucumber')\n",
    "\n",
    "type(a)"
   ]
  },
  {
   "cell_type": "markdown",
   "id": "536124ca",
   "metadata": {},
   "source": [
    "Множество (set) тоже чем-то похоже на список, только состоит из уникальных элементов. Записывается в фигурных скобках."
   ]
  },
  {
   "cell_type": "code",
   "execution_count": 10,
   "id": "56f360c2",
   "metadata": {},
   "outputs": [
    {
     "data": {
      "text/plain": [
       "{1, 2, 3, 4, 5, 6}"
      ]
     },
     "execution_count": 10,
     "metadata": {},
     "output_type": "execute_result"
    }
   ],
   "source": [
    "my_list = [1, 4, 6, 3, 5, 2, 4, 6, 2, 4, 6, 2]\n",
    "\n",
    "set(my_list)"
   ]
  },
  {
   "cell_type": "markdown",
   "id": "e98961cd",
   "metadata": {},
   "source": [
    "На кортежах и множествах работает вызов элемента по индексу, а элементы могут быть данными любого типа."
   ]
  },
  {
   "cell_type": "markdown",
   "id": "f5608051",
   "metadata": {},
   "source": [
    "## JSON"
   ]
  },
  {
   "cell_type": "markdown",
   "id": "b02fdcd2",
   "metadata": {},
   "source": [
    "JSON (JavaScript Object Notation) – простой, основанный на использовании текста, способ хранить и передавать структурированные данные.\n",
    "\n",
    "Его придумали для того, чтобы упростить обмен данными.\n",
    "\n",
    "Его предложения легко читаются и составляются как человеком, так и компьютером.\n",
    "\n",
    "Его легко преобразовать в структуру данных для большинства языков программирования (числа, строки, логические переменные, массивы и так далее).\n",
    "\n",
    "Многие языки программирования имеют функции и библиотеки для чтения и создания структур JSON."
   ]
  },
  {
   "cell_type": "markdown",
   "id": "2dc16023",
   "metadata": {},
   "source": [
    "Строка JSON может содержать объект, и тогда она начинается с `{` и заканчивается на `}`. Такой объект очень похож на питоновский словарь: у него есть ключи – строки, которые пишутся в кавычках, а через двоеточие пишется значение, пары ключ-значение разделяются запятыми.\n",
    "\n",
    "NB! Если ключом в питоновском словаре может быть и число, и булевая переменная, и т.д. (не делайте так...), то при переводе подобного словаря в JSON-объект все ключи станут строками.\n",
    "\n",
    "Строка JSON может содержать массив, и тогда она начинается с `[` и заканчивается на `]`. Такой массив очень похож на питоновский массив: в нем значения перечисляются через запятую.\n",
    "\n",
    "Значение в массиве или объекте может быть:\n",
    "\n",
    "* Числом (целым или с плавающей точкой)\n",
    "* Строкой (в двойных кавычках)\n",
    "* Логическим значением (true или false)\n",
    "* Другим массивом (заключенным в квадратные скобки)\n",
    "* Другим объектом (заключенным в фигурные скобки)\n",
    "* Значением null\n",
    "\n",
    "Удобный вариант хранения данных в JSON - массив объектов или, если говорить на языке питона, список словарей."
   ]
  },
  {
   "cell_type": "markdown",
   "id": "33b0658e",
   "metadata": {},
   "source": [
    "### Модуль json\n",
    "\n",
    "**Чтение:**\n",
    "\n",
    "Для чтения в модуле json есть два метода:\n",
    "\n",
    "* json.load() – метод считывает **файл** в формате JSON и возвращает объекты Python. У этой функции один обязательный аргумент – файл.\n",
    "* json.loads() – метод считывает **строку** в формате JSON и возвращает объекты Python. У этой функции один обязательный аргумент – строка.\n",
    "\n",
    "**Запись:**\n",
    "\n",
    "Для записи информации в формате JSON в модуле json также два метода:\n",
    "\n",
    "* json.dump() – метод записывает объект Python в **файл** в формате JSON. У этой функции два обязательных аргумента – файл и объект питона.\n",
    "* json.dumps() – превращает питоновский словарь или массив **в строку** JSON. У этой функции один обязательный аргумент – словарь или массив."
   ]
  },
  {
   "cell_type": "markdown",
   "id": "8ff4d576",
   "metadata": {},
   "source": [
    "### Дополнительные параметры методов записи\n",
    "\n",
    "* `indent` – уровень отступа (может быть равен числу или строке). Он позволяет сделать так, чтобы данные записывались в файл с человекопонятным форматированием. Тогда файл можно будет открыть текстовым редактором и посмотреть глазами, что там внутри.\n",
    "* `sort_keys` - сортирует ключи словаря"
   ]
  },
  {
   "cell_type": "markdown",
   "id": "a4319892",
   "metadata": {},
   "source": [
    "Углубляться в использование чистого JSON мы не будем, а как способ хранения данных он кажется достаточно понятным. Поэтому отдельных задач по нему не будет, но он может нам пригодиться как инструмент работы с другими библиотеками."
   ]
  },
  {
   "cell_type": "markdown",
   "id": "1b0d077b",
   "metadata": {},
   "source": [
    "## pandas"
   ]
  },
  {
   "cell_type": "code",
   "execution_count": 1,
   "id": "008113b2",
   "metadata": {},
   "outputs": [],
   "source": [
    "import pandas as pd"
   ]
  },
  {
   "cell_type": "markdown",
   "id": "457afaea",
   "metadata": {},
   "source": [
    "Основная сущность, с котрой работает библиотека - это датафрейм (DataFrame). На человеческом - таблица. Каждый датафрейм состоит из столбцов типа Series (одномерных массивов, которые могут хранить значения любого типа данных). Датафремй можно получить различными способами, но основных два:\n",
    "\n",
    "* создать из словаря, списка или чего-то похожего"
   ]
  },
  {
   "cell_type": "code",
   "execution_count": 2,
   "id": "a2183b7c",
   "metadata": {},
   "outputs": [
    {
     "data": {
      "text/html": [
       "<div>\n",
       "<style scoped>\n",
       "    .dataframe tbody tr th:only-of-type {\n",
       "        vertical-align: middle;\n",
       "    }\n",
       "\n",
       "    .dataframe tbody tr th {\n",
       "        vertical-align: top;\n",
       "    }\n",
       "\n",
       "    .dataframe thead th {\n",
       "        text-align: right;\n",
       "    }\n",
       "</style>\n",
       "<table border=\"1\" class=\"dataframe\">\n",
       "  <thead>\n",
       "    <tr style=\"text-align: right;\">\n",
       "      <th></th>\n",
       "      <th>age</th>\n",
       "      <th>height</th>\n",
       "    </tr>\n",
       "  </thead>\n",
       "  <tbody>\n",
       "    <tr>\n",
       "      <th>0</th>\n",
       "      <td>12</td>\n",
       "      <td>140</td>\n",
       "    </tr>\n",
       "    <tr>\n",
       "      <th>1</th>\n",
       "      <td>5</td>\n",
       "      <td>110</td>\n",
       "    </tr>\n",
       "    <tr>\n",
       "      <th>2</th>\n",
       "      <td>15</td>\n",
       "      <td>165</td>\n",
       "    </tr>\n",
       "    <tr>\n",
       "      <th>3</th>\n",
       "      <td>25</td>\n",
       "      <td>180</td>\n",
       "    </tr>\n",
       "  </tbody>\n",
       "</table>\n",
       "</div>"
      ],
      "text/plain": [
       "   age  height\n",
       "0   12     140\n",
       "1    5     110\n",
       "2   15     165\n",
       "3   25     180"
      ]
     },
     "execution_count": 2,
     "metadata": {},
     "output_type": "execute_result"
    }
   ],
   "source": [
    "dct = {\n",
    "    'age': [12, 5, 15, 25],\n",
    "    'height': [140, 110, 165, 180]\n",
    "}\n",
    "pd.DataFrame(dct)"
   ]
  },
  {
   "cell_type": "code",
   "execution_count": 3,
   "id": "ab8829f2",
   "metadata": {},
   "outputs": [
    {
     "data": {
      "text/html": [
       "<div>\n",
       "<style scoped>\n",
       "    .dataframe tbody tr th:only-of-type {\n",
       "        vertical-align: middle;\n",
       "    }\n",
       "\n",
       "    .dataframe tbody tr th {\n",
       "        vertical-align: top;\n",
       "    }\n",
       "\n",
       "    .dataframe thead th {\n",
       "        text-align: right;\n",
       "    }\n",
       "</style>\n",
       "<table border=\"1\" class=\"dataframe\">\n",
       "  <thead>\n",
       "    <tr style=\"text-align: right;\">\n",
       "      <th></th>\n",
       "      <th>age</th>\n",
       "      <th>height</th>\n",
       "    </tr>\n",
       "  </thead>\n",
       "  <tbody>\n",
       "    <tr>\n",
       "      <th>0</th>\n",
       "      <td>12</td>\n",
       "      <td>140</td>\n",
       "    </tr>\n",
       "    <tr>\n",
       "      <th>1</th>\n",
       "      <td>5</td>\n",
       "      <td>110</td>\n",
       "    </tr>\n",
       "    <tr>\n",
       "      <th>2</th>\n",
       "      <td>15</td>\n",
       "      <td>165</td>\n",
       "    </tr>\n",
       "    <tr>\n",
       "      <th>3</th>\n",
       "      <td>25</td>\n",
       "      <td>180</td>\n",
       "    </tr>\n",
       "  </tbody>\n",
       "</table>\n",
       "</div>"
      ],
      "text/plain": [
       "   age  height\n",
       "0   12     140\n",
       "1    5     110\n",
       "2   15     165\n",
       "3   25     180"
      ]
     },
     "execution_count": 3,
     "metadata": {},
     "output_type": "execute_result"
    }
   ],
   "source": [
    "lst = [\n",
    "    [12, 140],\n",
    "    [5, 110],\n",
    "    [15, 165],\n",
    "    [25, 180]\n",
    "]\n",
    "pd.DataFrame(lst, columns=['age', 'height'])"
   ]
  },
  {
   "cell_type": "markdown",
   "id": "9f2541da",
   "metadata": {},
   "source": [
    "* загрузить из файла (csv, tsv, excel etc.)\n",
    "    * **CSV**. Используется функция `read_csv()`. Аргумент file является строкой, в которой записан путь до файла с дата-сетом. Для записи данных из DataFrame в CSV-файл используется метод `to_csv(file)`.\n",
    "    * **Excel**. Используется функция `read_excel()`. Для записи данных из DataFrame в Excel-файл используется метод `to_excel()`.\n",
    "    * **JSON**. Используется функция `read_json()`. Для записи данных из DataFrame в JSON используется метод `to_json()`."
   ]
  },
  {
   "cell_type": "code",
   "execution_count": 4,
   "id": "b003ebca",
   "metadata": {},
   "outputs": [],
   "source": [
    "df = pd.read_csv(\"imdb_top_250.csv\")"
   ]
  },
  {
   "cell_type": "markdown",
   "id": "94c41eb5",
   "metadata": {},
   "source": [
    "У таблицы есть строки и столбцы, к ним можно обращаться отдельно или чтобы выделить конкретный набор данных по условию.\n",
    "\n",
    "Методом `.head()` можно вывести первые строки таблицы."
   ]
  },
  {
   "cell_type": "code",
   "execution_count": 5,
   "id": "8d266fa2",
   "metadata": {},
   "outputs": [
    {
     "data": {
      "text/html": [
       "<div>\n",
       "<style scoped>\n",
       "    .dataframe tbody tr th:only-of-type {\n",
       "        vertical-align: middle;\n",
       "    }\n",
       "\n",
       "    .dataframe tbody tr th {\n",
       "        vertical-align: top;\n",
       "    }\n",
       "\n",
       "    .dataframe thead th {\n",
       "        text-align: right;\n",
       "    }\n",
       "</style>\n",
       "<table border=\"1\" class=\"dataframe\">\n",
       "  <thead>\n",
       "    <tr style=\"text-align: right;\">\n",
       "      <th></th>\n",
       "      <th>Unnamed: 0</th>\n",
       "      <th>Title</th>\n",
       "      <th>Year</th>\n",
       "      <th>Genre</th>\n",
       "      <th>Duration</th>\n",
       "      <th>Origin</th>\n",
       "      <th>Director</th>\n",
       "      <th>IMDB rating</th>\n",
       "      <th>Rating count</th>\n",
       "      <th>IMDB link</th>\n",
       "    </tr>\n",
       "  </thead>\n",
       "  <tbody>\n",
       "    <tr>\n",
       "      <th>0</th>\n",
       "      <td>1</td>\n",
       "      <td>The Shawshank Redemption</td>\n",
       "      <td>1994</td>\n",
       "      <td>Drama</td>\n",
       "      <td>2h 22min</td>\n",
       "      <td>USA</td>\n",
       "      <td>Frank Darabont</td>\n",
       "      <td>9.3</td>\n",
       "      <td>2030817</td>\n",
       "      <td>https://www.imdb.com/title/tt0111161</td>\n",
       "    </tr>\n",
       "    <tr>\n",
       "      <th>1</th>\n",
       "      <td>2</td>\n",
       "      <td>The Godfather</td>\n",
       "      <td>1972</td>\n",
       "      <td>Drama | Crime</td>\n",
       "      <td>2h 55min</td>\n",
       "      <td>USA</td>\n",
       "      <td>Francis Ford Coppola</td>\n",
       "      <td>9.2</td>\n",
       "      <td>1392322</td>\n",
       "      <td>https://www.imdb.com/title/tt0068646</td>\n",
       "    </tr>\n",
       "    <tr>\n",
       "      <th>2</th>\n",
       "      <td>3</td>\n",
       "      <td>The Godfather: Part II</td>\n",
       "      <td>1974</td>\n",
       "      <td>Drama | Crime</td>\n",
       "      <td>3h 22min</td>\n",
       "      <td>USA</td>\n",
       "      <td>Francis Ford Coppola</td>\n",
       "      <td>9.0</td>\n",
       "      <td>964841</td>\n",
       "      <td>https://www.imdb.com/title/tt0071562</td>\n",
       "    </tr>\n",
       "    <tr>\n",
       "      <th>3</th>\n",
       "      <td>4</td>\n",
       "      <td>The Dark Knight</td>\n",
       "      <td>2008</td>\n",
       "      <td>Drama | Action | Thriller | Crime</td>\n",
       "      <td>2h 32min</td>\n",
       "      <td>USA | UK</td>\n",
       "      <td>Christopher Nolan</td>\n",
       "      <td>9.0</td>\n",
       "      <td>1998623</td>\n",
       "      <td>https://www.imdb.com/title/tt0468569</td>\n",
       "    </tr>\n",
       "    <tr>\n",
       "      <th>4</th>\n",
       "      <td>5</td>\n",
       "      <td>12 Angry Men</td>\n",
       "      <td>1957</td>\n",
       "      <td>Drama</td>\n",
       "      <td>1h 36min</td>\n",
       "      <td>USA</td>\n",
       "      <td>Sidney Lumet</td>\n",
       "      <td>8.9</td>\n",
       "      <td>571145</td>\n",
       "      <td>https://www.imdb.com/title/tt0050083</td>\n",
       "    </tr>\n",
       "  </tbody>\n",
       "</table>\n",
       "</div>"
      ],
      "text/plain": [
       "   Unnamed: 0                     Title  Year   \n",
       "0           1  The Shawshank Redemption  1994  \\\n",
       "1           2             The Godfather  1972   \n",
       "2           3    The Godfather: Part II  1974   \n",
       "3           4           The Dark Knight  2008   \n",
       "4           5              12 Angry Men  1957   \n",
       "\n",
       "                               Genre  Duration    Origin   \n",
       "0                              Drama  2h 22min       USA  \\\n",
       "1                      Drama | Crime  2h 55min       USA   \n",
       "2                      Drama | Crime  3h 22min       USA   \n",
       "3  Drama | Action | Thriller | Crime  2h 32min  USA | UK   \n",
       "4                              Drama  1h 36min       USA   \n",
       "\n",
       "               Director  IMDB rating  Rating count   \n",
       "0        Frank Darabont          9.3       2030817  \\\n",
       "1  Francis Ford Coppola          9.2       1392322   \n",
       "2  Francis Ford Coppola          9.0        964841   \n",
       "3     Christopher Nolan          9.0       1998623   \n",
       "4          Sidney Lumet          8.9        571145   \n",
       "\n",
       "                              IMDB link  \n",
       "0  https://www.imdb.com/title/tt0111161  \n",
       "1  https://www.imdb.com/title/tt0068646  \n",
       "2  https://www.imdb.com/title/tt0071562  \n",
       "3  https://www.imdb.com/title/tt0468569  \n",
       "4  https://www.imdb.com/title/tt0050083  "
      ]
     },
     "execution_count": 5,
     "metadata": {},
     "output_type": "execute_result"
    }
   ],
   "source": [
    "df.head(5)"
   ]
  },
  {
   "cell_type": "markdown",
   "id": "0c1224ce",
   "metadata": {},
   "source": [
    "Можно смотреть не верхние строки, а случайные или нижние:"
   ]
  },
  {
   "cell_type": "code",
   "execution_count": 6,
   "id": "79fc482d",
   "metadata": {},
   "outputs": [
    {
     "data": {
      "text/html": [
       "<div>\n",
       "<style scoped>\n",
       "    .dataframe tbody tr th:only-of-type {\n",
       "        vertical-align: middle;\n",
       "    }\n",
       "\n",
       "    .dataframe tbody tr th {\n",
       "        vertical-align: top;\n",
       "    }\n",
       "\n",
       "    .dataframe thead th {\n",
       "        text-align: right;\n",
       "    }\n",
       "</style>\n",
       "<table border=\"1\" class=\"dataframe\">\n",
       "  <thead>\n",
       "    <tr style=\"text-align: right;\">\n",
       "      <th></th>\n",
       "      <th>Unnamed: 0</th>\n",
       "      <th>Title</th>\n",
       "      <th>Year</th>\n",
       "      <th>Genre</th>\n",
       "      <th>Duration</th>\n",
       "      <th>Origin</th>\n",
       "      <th>Director</th>\n",
       "      <th>IMDB rating</th>\n",
       "      <th>Rating count</th>\n",
       "      <th>IMDB link</th>\n",
       "    </tr>\n",
       "  </thead>\n",
       "  <tbody>\n",
       "    <tr>\n",
       "      <th>103</th>\n",
       "      <td>104</td>\n",
       "      <td>Snatch</td>\n",
       "      <td>2000</td>\n",
       "      <td>Comedy | Crime</td>\n",
       "      <td>1h 44min</td>\n",
       "      <td>USA | UK</td>\n",
       "      <td>Guy Ritchie</td>\n",
       "      <td>8.3</td>\n",
       "      <td>701543</td>\n",
       "      <td>https://www.imdb.com/title/tt0208092</td>\n",
       "    </tr>\n",
       "    <tr>\n",
       "      <th>55</th>\n",
       "      <td>56</td>\n",
       "      <td>Avengers: Infinity War</td>\n",
       "      <td>2018</td>\n",
       "      <td>Adventure | Fantasy | Action</td>\n",
       "      <td>2h 29min</td>\n",
       "      <td>USA</td>\n",
       "      <td>Anthony Russo</td>\n",
       "      <td>8.5</td>\n",
       "      <td>547495</td>\n",
       "      <td>https://www.imdb.com/title/tt4154756</td>\n",
       "    </tr>\n",
       "  </tbody>\n",
       "</table>\n",
       "</div>"
      ],
      "text/plain": [
       "     Unnamed: 0                   Title  Year                         Genre   \n",
       "103         104                  Snatch  2000                Comedy | Crime  \\\n",
       "55           56  Avengers: Infinity War  2018  Adventure | Fantasy | Action   \n",
       "\n",
       "     Duration    Origin       Director  IMDB rating  Rating count   \n",
       "103  1h 44min  USA | UK    Guy Ritchie          8.3        701543  \\\n",
       "55   2h 29min       USA  Anthony Russo          8.5        547495   \n",
       "\n",
       "                                IMDB link  \n",
       "103  https://www.imdb.com/title/tt0208092  \n",
       "55   https://www.imdb.com/title/tt4154756  "
      ]
     },
     "execution_count": 6,
     "metadata": {},
     "output_type": "execute_result"
    }
   ],
   "source": [
    "df.sample(2)"
   ]
  },
  {
   "cell_type": "code",
   "execution_count": 7,
   "id": "6d3706dd",
   "metadata": {},
   "outputs": [
    {
     "data": {
      "text/html": [
       "<div>\n",
       "<style scoped>\n",
       "    .dataframe tbody tr th:only-of-type {\n",
       "        vertical-align: middle;\n",
       "    }\n",
       "\n",
       "    .dataframe tbody tr th {\n",
       "        vertical-align: top;\n",
       "    }\n",
       "\n",
       "    .dataframe thead th {\n",
       "        text-align: right;\n",
       "    }\n",
       "</style>\n",
       "<table border=\"1\" class=\"dataframe\">\n",
       "  <thead>\n",
       "    <tr style=\"text-align: right;\">\n",
       "      <th></th>\n",
       "      <th>Unnamed: 0</th>\n",
       "      <th>Title</th>\n",
       "      <th>Year</th>\n",
       "      <th>Genre</th>\n",
       "      <th>Duration</th>\n",
       "      <th>Origin</th>\n",
       "      <th>Director</th>\n",
       "      <th>IMDB rating</th>\n",
       "      <th>Rating count</th>\n",
       "      <th>IMDB link</th>\n",
       "    </tr>\n",
       "  </thead>\n",
       "  <tbody>\n",
       "    <tr>\n",
       "      <th>248</th>\n",
       "      <td>249</td>\n",
       "      <td>Gangs of Wasseypur</td>\n",
       "      <td>2012</td>\n",
       "      <td>Comedy | Thriller | Drama | Action | Crime</td>\n",
       "      <td>5h 21min</td>\n",
       "      <td>India</td>\n",
       "      <td>Anurag Kashyap</td>\n",
       "      <td>8.2</td>\n",
       "      <td>66466</td>\n",
       "      <td>https://www.imdb.com/title/tt1954470</td>\n",
       "    </tr>\n",
       "    <tr>\n",
       "      <th>249</th>\n",
       "      <td>250</td>\n",
       "      <td>Drishyam</td>\n",
       "      <td>2015</td>\n",
       "      <td>Drama | Thriller | Crime</td>\n",
       "      <td>2h 43min</td>\n",
       "      <td>India</td>\n",
       "      <td>Nishikant Kamat</td>\n",
       "      <td>8.3</td>\n",
       "      <td>51251</td>\n",
       "      <td>https://www.imdb.com/title/tt4430212</td>\n",
       "    </tr>\n",
       "  </tbody>\n",
       "</table>\n",
       "</div>"
      ],
      "text/plain": [
       "     Unnamed: 0               Title  Year   \n",
       "248         249  Gangs of Wasseypur  2012  \\\n",
       "249         250           Drishyam   2015   \n",
       "\n",
       "                                          Genre  Duration Origin   \n",
       "248  Comedy | Thriller | Drama | Action | Crime  5h 21min  India  \\\n",
       "249                    Drama | Thriller | Crime  2h 43min  India   \n",
       "\n",
       "            Director  IMDB rating  Rating count   \n",
       "248   Anurag Kashyap          8.2         66466  \\\n",
       "249  Nishikant Kamat          8.3         51251   \n",
       "\n",
       "                                IMDB link  \n",
       "248  https://www.imdb.com/title/tt1954470  \n",
       "249  https://www.imdb.com/title/tt4430212  "
      ]
     },
     "execution_count": 7,
     "metadata": {},
     "output_type": "execute_result"
    }
   ],
   "source": [
    "df.tail(2)"
   ]
  },
  {
   "cell_type": "markdown",
   "id": "e40c6cda",
   "metadata": {},
   "source": [
    "Можно узнать размер таблицы:"
   ]
  },
  {
   "cell_type": "code",
   "execution_count": 8,
   "id": "a575c255",
   "metadata": {},
   "outputs": [
    {
     "data": {
      "text/plain": [
       "(250, 10)"
      ]
     },
     "execution_count": 8,
     "metadata": {},
     "output_type": "execute_result"
    }
   ],
   "source": [
    "df.shape  # это кортеж, можно взять элемент по индексу"
   ]
  },
  {
   "cell_type": "markdown",
   "id": "2e926d01",
   "metadata": {},
   "source": [
    "Или, например, набор ее столбцов:"
   ]
  },
  {
   "cell_type": "code",
   "execution_count": 11,
   "id": "6204ce1a",
   "metadata": {},
   "outputs": [
    {
     "data": {
      "text/plain": [
       "Index(['Unnamed: 0', 'Title', 'Year', 'Genre', 'Duration', 'Origin',\n",
       "       'Director', 'IMDB rating', 'Rating count', 'IMDB link'],\n",
       "      dtype='object')"
      ]
     },
     "execution_count": 11,
     "metadata": {},
     "output_type": "execute_result"
    }
   ],
   "source": [
    "df.columns"
   ]
  },
  {
   "cell_type": "markdown",
   "id": "ae9fa3b1",
   "metadata": {},
   "source": [
    "Попробуем выбрать конкретные части датафрейма\n",
    "\n",
    "* столбец"
   ]
  },
  {
   "cell_type": "code",
   "execution_count": 13,
   "id": "9d9c414d",
   "metadata": {},
   "outputs": [
    {
     "data": {
      "text/plain": [
       "0    The Shawshank Redemption\n",
       "1               The Godfather\n",
       "2      The Godfather: Part II\n",
       "Name: Title, dtype: object"
      ]
     },
     "execution_count": 13,
     "metadata": {},
     "output_type": "execute_result"
    }
   ],
   "source": [
    "df['Title'].head(3)"
   ]
  },
  {
   "cell_type": "markdown",
   "id": "7f3f600e",
   "metadata": {},
   "source": [
    "* столбцы"
   ]
  },
  {
   "cell_type": "code",
   "execution_count": 14,
   "id": "469c7ed8",
   "metadata": {},
   "outputs": [
    {
     "data": {
      "text/html": [
       "<div>\n",
       "<style scoped>\n",
       "    .dataframe tbody tr th:only-of-type {\n",
       "        vertical-align: middle;\n",
       "    }\n",
       "\n",
       "    .dataframe tbody tr th {\n",
       "        vertical-align: top;\n",
       "    }\n",
       "\n",
       "    .dataframe thead th {\n",
       "        text-align: right;\n",
       "    }\n",
       "</style>\n",
       "<table border=\"1\" class=\"dataframe\">\n",
       "  <thead>\n",
       "    <tr style=\"text-align: right;\">\n",
       "      <th></th>\n",
       "      <th>Title</th>\n",
       "      <th>Origin</th>\n",
       "      <th>Director</th>\n",
       "    </tr>\n",
       "  </thead>\n",
       "  <tbody>\n",
       "    <tr>\n",
       "      <th>0</th>\n",
       "      <td>The Shawshank Redemption</td>\n",
       "      <td>USA</td>\n",
       "      <td>Frank Darabont</td>\n",
       "    </tr>\n",
       "    <tr>\n",
       "      <th>1</th>\n",
       "      <td>The Godfather</td>\n",
       "      <td>USA</td>\n",
       "      <td>Francis Ford Coppola</td>\n",
       "    </tr>\n",
       "    <tr>\n",
       "      <th>2</th>\n",
       "      <td>The Godfather: Part II</td>\n",
       "      <td>USA</td>\n",
       "      <td>Francis Ford Coppola</td>\n",
       "    </tr>\n",
       "  </tbody>\n",
       "</table>\n",
       "</div>"
      ],
      "text/plain": [
       "                      Title Origin              Director\n",
       "0  The Shawshank Redemption    USA        Frank Darabont\n",
       "1             The Godfather    USA  Francis Ford Coppola\n",
       "2    The Godfather: Part II    USA  Francis Ford Coppola"
      ]
     },
     "execution_count": 14,
     "metadata": {},
     "output_type": "execute_result"
    }
   ],
   "source": [
    "df[['Title', 'Origin', 'Director']].head(3)"
   ]
  },
  {
   "cell_type": "markdown",
   "id": "6f0cd496",
   "metadata": {},
   "source": [
    "Можем посмотреть всякие статистики по таблице."
   ]
  },
  {
   "cell_type": "code",
   "execution_count": 15,
   "id": "efb28757",
   "metadata": {},
   "outputs": [
    {
     "data": {
      "text/html": [
       "<div>\n",
       "<style scoped>\n",
       "    .dataframe tbody tr th:only-of-type {\n",
       "        vertical-align: middle;\n",
       "    }\n",
       "\n",
       "    .dataframe tbody tr th {\n",
       "        vertical-align: top;\n",
       "    }\n",
       "\n",
       "    .dataframe thead th {\n",
       "        text-align: right;\n",
       "    }\n",
       "</style>\n",
       "<table border=\"1\" class=\"dataframe\">\n",
       "  <thead>\n",
       "    <tr style=\"text-align: right;\">\n",
       "      <th></th>\n",
       "      <th>Unnamed: 0</th>\n",
       "      <th>Year</th>\n",
       "      <th>IMDB rating</th>\n",
       "      <th>Rating count</th>\n",
       "    </tr>\n",
       "  </thead>\n",
       "  <tbody>\n",
       "    <tr>\n",
       "      <th>count</th>\n",
       "      <td>250.000000</td>\n",
       "      <td>250.000000</td>\n",
       "      <td>250.000000</td>\n",
       "      <td>2.500000e+02</td>\n",
       "    </tr>\n",
       "    <tr>\n",
       "      <th>mean</th>\n",
       "      <td>125.500000</td>\n",
       "      <td>1985.284000</td>\n",
       "      <td>8.302400</td>\n",
       "      <td>4.777687e+05</td>\n",
       "    </tr>\n",
       "    <tr>\n",
       "      <th>std</th>\n",
       "      <td>72.312977</td>\n",
       "      <td>24.789138</td>\n",
       "      <td>0.228831</td>\n",
       "      <td>4.032529e+05</td>\n",
       "    </tr>\n",
       "    <tr>\n",
       "      <th>min</th>\n",
       "      <td>1.000000</td>\n",
       "      <td>1921.000000</td>\n",
       "      <td>8.000000</td>\n",
       "      <td>2.634500e+04</td>\n",
       "    </tr>\n",
       "    <tr>\n",
       "      <th>25%</th>\n",
       "      <td>63.250000</td>\n",
       "      <td>1966.250000</td>\n",
       "      <td>8.100000</td>\n",
       "      <td>1.389868e+05</td>\n",
       "    </tr>\n",
       "    <tr>\n",
       "      <th>50%</th>\n",
       "      <td>125.500000</td>\n",
       "      <td>1993.000000</td>\n",
       "      <td>8.200000</td>\n",
       "      <td>3.477585e+05</td>\n",
       "    </tr>\n",
       "    <tr>\n",
       "      <th>75%</th>\n",
       "      <td>187.750000</td>\n",
       "      <td>2005.000000</td>\n",
       "      <td>8.400000</td>\n",
       "      <td>7.074485e+05</td>\n",
       "    </tr>\n",
       "    <tr>\n",
       "      <th>max</th>\n",
       "      <td>250.000000</td>\n",
       "      <td>2018.000000</td>\n",
       "      <td>9.300000</td>\n",
       "      <td>2.030817e+06</td>\n",
       "    </tr>\n",
       "  </tbody>\n",
       "</table>\n",
       "</div>"
      ],
      "text/plain": [
       "       Unnamed: 0         Year  IMDB rating  Rating count\n",
       "count  250.000000   250.000000   250.000000  2.500000e+02\n",
       "mean   125.500000  1985.284000     8.302400  4.777687e+05\n",
       "std     72.312977    24.789138     0.228831  4.032529e+05\n",
       "min      1.000000  1921.000000     8.000000  2.634500e+04\n",
       "25%     63.250000  1966.250000     8.100000  1.389868e+05\n",
       "50%    125.500000  1993.000000     8.200000  3.477585e+05\n",
       "75%    187.750000  2005.000000     8.400000  7.074485e+05\n",
       "max    250.000000  2018.000000     9.300000  2.030817e+06"
      ]
     },
     "execution_count": 15,
     "metadata": {},
     "output_type": "execute_result"
    }
   ],
   "source": [
    "df.describe()"
   ]
  },
  {
   "cell_type": "markdown",
   "id": "11797f10",
   "metadata": {},
   "source": [
    "pandas умеет много всего. Если понадобится какой-то определенный инструмент, можно поискать его в [документации](https://pandas.pydata.org/docs/)."
   ]
  },
  {
   "cell_type": "code",
   "execution_count": null,
   "id": "a7fb081c",
   "metadata": {},
   "outputs": [],
   "source": []
  }
 ],
 "metadata": {
  "kernelspec": {
   "display_name": "Python 3 (ipykernel)",
   "language": "python",
   "name": "python3"
  },
  "language_info": {
   "codemirror_mode": {
    "name": "ipython",
    "version": 3
   },
   "file_extension": ".py",
   "mimetype": "text/x-python",
   "name": "python",
   "nbconvert_exporter": "python",
   "pygments_lexer": "ipython3",
   "version": "3.8.10"
  }
 },
 "nbformat": 4,
 "nbformat_minor": 5
}
